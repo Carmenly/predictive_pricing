{
 "cells": [
  {
   "cell_type": "code",
   "execution_count": 26,
   "id": "cb622676-fe27-42cd-99f7-07a2353e30bb",
   "metadata": {},
   "outputs": [],
   "source": [
    "import pandas as pd\n",
    "import numpy as np\n",
    "\n",
    "\n",
    "from sklearn.model_selection import train_test_split, GridSearchCV, cross_val_score\n",
    "import statsmodels.api as sm\n",
    "from sklearn.preprocessing import OneHotEncoder, StandardScaler\n",
    "from sklearn.compose import make_column_transformer\n",
    "from sklearn.linear_model import LinearRegression\n",
    "from sklearn.metrics import mean_squared_error, r2_score\n",
    "\n",
    "from sklearn.preprocessing import PolynomialFeatures\n",
    "from sklearn.linear_model import Lasso, Ridge\n",
    "from sklearn.pipeline import Pipeline\n",
    "from sklearn.feature_selection import RFE\n",
    "\n",
    "import warnings"
   ]
  },
  {
   "cell_type": "code",
   "execution_count": 27,
   "id": "2a84e4ba-906f-4f8b-a3ff-fda7c6bba306",
   "metadata": {},
   "outputs": [],
   "source": [
    "train_clean = pd.read_csv('datasets/newone.csv')"
   ]
  },
  {
   "cell_type": "code",
   "execution_count": 28,
   "id": "9e8fb45f-62bf-4b40-ac85-a420cb35c4cf",
   "metadata": {},
   "outputs": [],
   "source": [
    "test_clean = pd.read_csv('datasets/newonetest.csv')"
   ]
  },
  {
   "cell_type": "markdown",
   "id": "5129c876-de93-44bf-9d47-0d2800bd9337",
   "metadata": {},
   "source": [
    "**Linear Regression Model**"
   ]
  },
  {
   "cell_type": "code",
   "execution_count": 30,
   "id": "7304ac25-6f19-41bf-9c09-9624fc3fc237",
   "metadata": {},
   "outputs": [],
   "source": [
    "X = train_clean.drop('SalePrice', axis = 1)\n",
    "y= train_clean['SalePrice']"
   ]
  },
  {
   "cell_type": "code",
   "execution_count": 31,
   "id": "3c8291c6-639e-4081-8eae-99fe28b5c9c6",
   "metadata": {},
   "outputs": [],
   "source": [
    "X_train, X_test, y_train, y_test = train_test_split(X, y, test_size=0.2, random_state=42)"
   ]
  },
  {
   "cell_type": "code",
   "execution_count": 32,
   "id": "843aec84-c86a-47db-a7e4-8c95fa483cc4",
   "metadata": {},
   "outputs": [],
   "source": [
    "lr = LinearRegression().fit(X_train,y_train)"
   ]
  },
  {
   "cell_type": "code",
   "execution_count": 33,
   "id": "3f80dd41-c968-4d25-a195-3eee401e5f36",
   "metadata": {},
   "outputs": [],
   "source": [
    "X1 = test_clean.drop(columns = 'Unnamed: 0')"
   ]
  },
  {
   "cell_type": "code",
   "execution_count": 34,
   "id": "8fc904fa-bff1-48ac-91f3-b769671ad012",
   "metadata": {},
   "outputs": [],
   "source": [
    "test_predictions = lr.predict(X1)"
   ]
  },
  {
   "cell_type": "code",
   "execution_count": 35,
   "id": "8f2f99ea-7f62-481e-9039-a16483a7639d",
   "metadata": {},
   "outputs": [],
   "source": [
    "submission = test_clean "
   ]
  },
  {
   "cell_type": "code",
   "execution_count": 36,
   "id": "545b5a0d-c424-4836-b872-efca1ea24ca1",
   "metadata": {},
   "outputs": [],
   "source": [
    "submission['SalePrice'] = test_predictions"
   ]
  },
  {
   "cell_type": "code",
   "execution_count": 37,
   "id": "17401b5b-b005-4ad8-bf9a-8c2f7136e4b0",
   "metadata": {},
   "outputs": [],
   "source": [
    "another_submmission = submission[['Unnamed: 0', 'SalePrice']].set_index('Unnamed: 0')"
   ]
  },
  {
   "cell_type": "code",
   "execution_count": 38,
   "id": "dc2bf4f6-54f5-4bb8-8c50-49a02c34d165",
   "metadata": {},
   "outputs": [],
   "source": [
    "another_submmission.to_csv('submission9.csv')"
   ]
  },
  {
   "cell_type": "markdown",
   "id": "9e1fdb0f-836c-4750-a5a9-ed4882066e3b",
   "metadata": {},
   "source": [
    "This one is my best submission"
   ]
  }
 ],
 "metadata": {
  "kernelspec": {
   "display_name": "Python 3 (ipykernel)",
   "language": "python",
   "name": "python3"
  },
  "language_info": {
   "codemirror_mode": {
    "name": "ipython",
    "version": 3
   },
   "file_extension": ".py",
   "mimetype": "text/x-python",
   "name": "python",
   "nbconvert_exporter": "python",
   "pygments_lexer": "ipython3",
   "version": "3.11.7"
  }
 },
 "nbformat": 4,
 "nbformat_minor": 5
}
