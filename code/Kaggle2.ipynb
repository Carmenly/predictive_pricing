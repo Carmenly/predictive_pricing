{
 "cells": [
  {
   "cell_type": "code",
   "execution_count": 5,
   "id": "5fe0f387-6cb1-4354-8541-b52d8129381a",
   "metadata": {},
   "outputs": [],
   "source": [
    "import pandas as pd\n",
    "import numpy as np\n",
    "\n",
    "from sklearn.model_selection import train_test_split, GridSearchCV, cross_val_score\n",
    "import statsmodels.api as sm\n",
    "from sklearn.preprocessing import OneHotEncoder, StandardScaler\n",
    "from sklearn.compose import make_column_transformer\n",
    "from sklearn.linear_model import LinearRegression\n",
    "from sklearn.metrics import mean_squared_error, r2_score\n",
    "\n",
    "from sklearn.preprocessing import PolynomialFeatures\n",
    "from sklearn.linear_model import Lasso, Ridge\n",
    "from sklearn.pipeline import Pipeline\n",
    "from sklearn.feature_selection import RFE\n",
    "\n",
    "import warnings"
   ]
  },
  {
   "cell_type": "code",
   "execution_count": 17,
   "id": "7e8f5f05-8629-4eb1-bd09-6b1b294e5c0f",
   "metadata": {},
   "outputs": [],
   "source": [
    "warnings.filterwarnings(\"ignore\")"
   ]
  },
  {
   "cell_type": "code",
   "execution_count": 6,
   "id": "91d5fa3c-9357-408a-ade8-3cc9dbc1686e",
   "metadata": {},
   "outputs": [],
   "source": [
    "train_clean = pd.read_csv('datasets/newone.csv')"
   ]
  },
  {
   "cell_type": "code",
   "execution_count": 7,
   "id": "2473a334-c92c-4b65-8f4e-56c16f651162",
   "metadata": {},
   "outputs": [],
   "source": [
    "test_clean = pd.read_csv('datasets/newonetest.csv')"
   ]
  },
  {
   "cell_type": "markdown",
   "id": "f4b887e8-bd2a-4ab4-82a1-e5733a2db165",
   "metadata": {},
   "source": [
    "**Lasso Regression Model**"
   ]
  },
  {
   "cell_type": "code",
   "execution_count": 8,
   "id": "e02e610f-cfb8-4ca7-b3ab-336eca16eee6",
   "metadata": {},
   "outputs": [],
   "source": [
    "X = train_clean.drop('SalePrice', axis = 1)\n",
    "y= train_clean['SalePrice']"
   ]
  },
  {
   "cell_type": "code",
   "execution_count": 9,
   "id": "03367ce9-3202-4d68-8588-650abf1ab07c",
   "metadata": {},
   "outputs": [],
   "source": [
    "X_train, X_test, y_train, y_test = train_test_split(X, y, test_size=0.2, random_state=42)"
   ]
  },
  {
   "cell_type": "code",
   "execution_count": 18,
   "id": "acca6961-66b5-4ebe-9c9d-520e7cf41623",
   "metadata": {},
   "outputs": [],
   "source": [
    "lasso = Lasso().fit(X_train, y_train)"
   ]
  },
  {
   "cell_type": "markdown",
   "id": "847bf428-13ce-42af-a9a4-b07508c71e09",
   "metadata": {},
   "source": [
    "*Submission*"
   ]
  },
  {
   "cell_type": "code",
   "execution_count": 11,
   "id": "78e8cf29-b5f8-4aab-b9b1-78db4bcb5aff",
   "metadata": {},
   "outputs": [],
   "source": [
    "X1 = test_clean.drop(columns = 'Unnamed: 0', axis = 1)"
   ]
  },
  {
   "cell_type": "code",
   "execution_count": 12,
   "id": "c963f0c2-df30-4c93-89f7-60010d447faf",
   "metadata": {},
   "outputs": [],
   "source": [
    "test_predictions = lasso.predict(X1)"
   ]
  },
  {
   "cell_type": "code",
   "execution_count": 13,
   "id": "a7f59780-25a0-487b-88ff-3c938c2f275a",
   "metadata": {},
   "outputs": [],
   "source": [
    "submission = test_clean "
   ]
  },
  {
   "cell_type": "code",
   "execution_count": 14,
   "id": "53140ab9-b5dc-494e-b982-efa7e47fd26a",
   "metadata": {},
   "outputs": [],
   "source": [
    "submission['SalePrice'] = test_predictions"
   ]
  },
  {
   "cell_type": "code",
   "execution_count": 15,
   "id": "5432f426-625a-4689-9e5c-c9d7be31a8ea",
   "metadata": {},
   "outputs": [],
   "source": [
    "another_submmission = submission[['Unnamed: 0', 'SalePrice']].set_index('Unnamed: 0')"
   ]
  },
  {
   "cell_type": "code",
   "execution_count": 16,
   "id": "11a38141-5f98-4c81-bd3a-7c2b076aa33c",
   "metadata": {},
   "outputs": [],
   "source": [
    "another_submmission.to_csv('submission8n.csv')"
   ]
  },
  {
   "cell_type": "markdown",
   "id": "ccade3bd-8437-4b5e-ada1-cd210354b9d9",
   "metadata": {},
   "source": [
    "This was my second best submission"
   ]
  }
 ],
 "metadata": {
  "kernelspec": {
   "display_name": "Python 3 (ipykernel)",
   "language": "python",
   "name": "python3"
  },
  "language_info": {
   "codemirror_mode": {
    "name": "ipython",
    "version": 3
   },
   "file_extension": ".py",
   "mimetype": "text/x-python",
   "name": "python",
   "nbconvert_exporter": "python",
   "pygments_lexer": "ipython3",
   "version": "3.11.7"
  }
 },
 "nbformat": 4,
 "nbformat_minor": 5
}
