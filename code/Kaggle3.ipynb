{
 "cells": [
  {
   "cell_type": "code",
   "execution_count": 1,
   "id": "424a7460-a520-4041-905e-512cb32afa99",
   "metadata": {},
   "outputs": [],
   "source": [
    "import pandas as pd\n",
    "import numpy as np\n",
    "\n",
    "from sklearn.model_selection import train_test_split, GridSearchCV, cross_val_score\n",
    "import statsmodels.api as sm\n",
    "from sklearn.preprocessing import OneHotEncoder, StandardScaler\n",
    "from sklearn.compose import make_column_transformer\n",
    "from sklearn.linear_model import LinearRegression\n",
    "from sklearn.metrics import mean_squared_error, r2_score\n",
    "\n",
    "from sklearn.preprocessing import PolynomialFeatures\n",
    "from sklearn.linear_model import Lasso, Ridge\n",
    "from sklearn.pipeline import Pipeline\n",
    "from sklearn.feature_selection import RFE\n",
    "\n",
    "import warnings"
   ]
  },
  {
   "cell_type": "code",
   "execution_count": 2,
   "id": "a76b7c4e-a209-4a16-91d1-cdd17af02420",
   "metadata": {},
   "outputs": [],
   "source": [
    "warnings.filterwarnings(\"ignore\")"
   ]
  },
  {
   "cell_type": "code",
   "execution_count": 3,
   "id": "c7ebeb6e-0931-4595-8390-23f7e4b70f5f",
   "metadata": {},
   "outputs": [],
   "source": [
    "train_clean = pd.read_csv('datasets/newone.csv')"
   ]
  },
  {
   "cell_type": "code",
   "execution_count": 4,
   "id": "5f1a4f2d-1149-4676-84f4-0ab3882f666a",
   "metadata": {},
   "outputs": [],
   "source": [
    "test_clean = pd.read_csv('datasets/newonetest.csv')"
   ]
  },
  {
   "cell_type": "markdown",
   "id": "01c96c28-01f8-47e5-abab-2977c7a72278",
   "metadata": {},
   "source": [
    "**Ridge Regression Model**"
   ]
  },
  {
   "cell_type": "code",
   "execution_count": 5,
   "id": "be2faa95-df9e-424c-9112-e89200a4db4f",
   "metadata": {},
   "outputs": [],
   "source": [
    "X = train_clean.drop('SalePrice', axis = 1)\n",
    "y= train_clean['SalePrice']"
   ]
  },
  {
   "cell_type": "code",
   "execution_count": 6,
   "id": "cac07c65-9d01-4f9c-a5b1-223066d0fe1c",
   "metadata": {},
   "outputs": [],
   "source": [
    "X_train, X_test, y_train, y_test = train_test_split(X, y, test_size=0.2, random_state=42)"
   ]
  },
  {
   "cell_type": "code",
   "execution_count": 7,
   "id": "036529c5-16b6-4644-9b53-4df77e2eec32",
   "metadata": {},
   "outputs": [],
   "source": [
    "ridge = Ridge().fit(X_train, y_train)"
   ]
  },
  {
   "cell_type": "code",
   "execution_count": 8,
   "id": "487c444e-3b69-4ed7-9943-70b3a4c0084e",
   "metadata": {},
   "outputs": [],
   "source": [
    "train_preds = ridge.predict(X_train)"
   ]
  },
  {
   "cell_type": "markdown",
   "id": "03aef1b6-6355-4c28-bfac-ec6b3df8bfb1",
   "metadata": {},
   "source": [
    "*Kaggle Submission*"
   ]
  },
  {
   "cell_type": "code",
   "execution_count": 9,
   "id": "de1b8d34-6baa-4fcc-b364-92d801f6864d",
   "metadata": {},
   "outputs": [],
   "source": [
    "X = test_clean.drop('Unnamed: 0', axis = 1 )"
   ]
  },
  {
   "cell_type": "code",
   "execution_count": 10,
   "id": "a8cdbdff-4bc4-4fbd-9318-5300b109053b",
   "metadata": {},
   "outputs": [],
   "source": [
    "test_predictions = ridge.predict(X)"
   ]
  },
  {
   "cell_type": "code",
   "execution_count": 11,
   "id": "a406c9c7-cc97-4b20-9c20-ce2e7a78ed0f",
   "metadata": {},
   "outputs": [],
   "source": [
    "submission = test_clean"
   ]
  },
  {
   "cell_type": "code",
   "execution_count": 12,
   "id": "cb34ab1e-3f51-4ca4-af03-7724e23d2241",
   "metadata": {},
   "outputs": [],
   "source": [
    "submission['SalePrice'] = test_predictions"
   ]
  },
  {
   "cell_type": "code",
   "execution_count": 13,
   "id": "ac775fbf-9f68-4a52-8514-c84dbdc959ef",
   "metadata": {},
   "outputs": [],
   "source": [
    "another_submmission = submission[['Unnamed: 0', 'SalePrice']].set_index('Unnamed: 0')"
   ]
  },
  {
   "cell_type": "code",
   "execution_count": 14,
   "id": "50e77287-cc23-4839-81e0-8b27ac0a2230",
   "metadata": {},
   "outputs": [],
   "source": [
    "another_submmission.to_csv('another.csv')"
   ]
  },
  {
   "cell_type": "markdown",
   "id": "678cc3d9-702b-4744-9460-226ce76fea2a",
   "metadata": {},
   "source": [
    "third best "
   ]
  }
 ],
 "metadata": {
  "kernelspec": {
   "display_name": "Python 3 (ipykernel)",
   "language": "python",
   "name": "python3"
  },
  "language_info": {
   "codemirror_mode": {
    "name": "ipython",
    "version": 3
   },
   "file_extension": ".py",
   "mimetype": "text/x-python",
   "name": "python",
   "nbconvert_exporter": "python",
   "pygments_lexer": "ipython3",
   "version": "3.11.7"
  }
 },
 "nbformat": 4,
 "nbformat_minor": 5
}
